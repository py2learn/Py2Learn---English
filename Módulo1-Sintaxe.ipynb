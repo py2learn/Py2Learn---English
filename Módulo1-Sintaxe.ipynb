{
 "cells": [
  {
   "cell_type": "markdown",
   "metadata": {},
   "source": [
    "Sintaxe Python\n",
    "======================================================="
   ]
  },
  {
   "cell_type": "markdown",
   "metadata": {},
   "source": [
    "<h2>1. Indentações</h2>\n",
    "\n",
    "---\n",
    "Na linguagem de programação Python, algo que faz muito a diferença são as indentações, ou seja são os espaços entre a margem e o início da linha de código, porque o mesmo indica um bloco de código."
   ]
  },
  {
   "cell_type": "markdown",
   "metadata": {},
   "source": [
    "Exemplo 1.1:"
   ]
  },
  {
   "cell_type": "code",
   "execution_count": null,
   "metadata": {},
   "outputs": [],
   "source": [
    "valor = 10\n",
    "if valor > 5:\n",
    "print(\"O valor é\" , valor)"
   ]
  },
  {
   "cell_type": "markdown",
   "metadata": {},
   "source": [
    "Este código dá erro de sintaxe visto que, não está indentado, o que indica que estamos a verificar se o valor é maior que 5 e não fazemos nada em relação a isso.\n",
    "\n",
    "O código não daria erro caso estivesse indentado, porque caso a condição se verifique executa a linha de código que se encontra dentro da condição.\n",
    "(Ver o exemplo seguinte)"
   ]
  },
  {
   "cell_type": "markdown",
   "metadata": {},
   "source": [
    "Exemplo 1.2:"
   ]
  },
  {
   "cell_type": "code",
   "execution_count": 19,
   "metadata": {},
   "outputs": [
    {
     "name": "stdout",
     "output_type": "stream",
     "text": [
      "O valor é 10\n"
     ]
    }
   ],
   "source": [
    "valor = 10\n",
    "if valor > 5:\n",
    "    print (\"O valor é\" , valor)"
   ]
  },
  {
   "cell_type": "markdown",
   "metadata": {},
   "source": [
    "---\n",
    "<h2>2. Comentários</h2>\n",
    "\n",
    "---"
   ]
  },
  {
   "cell_type": "markdown",
   "metadata": {},
   "source": [
    "Quando tens alguma nota que queiras deixar no teu código para ti ou para os outros, escreves um comentário colocando o caracter **\"#\"** no início da linha ou do texto a comentar. Um comentário é um texto que é ignorado pelo python."
   ]
  },
  {
   "cell_type": "markdown",
   "metadata": {},
   "source": [
    "Exemplo 2.1:"
   ]
  },
  {
   "cell_type": "code",
   "execution_count": 20,
   "metadata": {},
   "outputs": [
    {
     "name": "stdout",
     "output_type": "stream",
     "text": [
      "Olá Mundo\n"
     ]
    }
   ],
   "source": [
    "print(\"Olá Mundo\") #Este método do python imprime o texto na consola"
   ]
  },
  {
   "cell_type": "markdown",
   "metadata": {},
   "source": [
    "---\n",
    "<h2>3. Docstrings</h2>\n",
    "\n",
    "---"
   ]
  }
 ],
 "metadata": {
  "kernelspec": {
   "display_name": "Python 3",
   "language": "python",
   "name": "python3"
  },
  "language_info": {
   "codemirror_mode": {
    "name": "ipython",
    "version": 3
   },
   "file_extension": ".py",
   "mimetype": "text/x-python",
   "name": "python",
   "nbconvert_exporter": "python",
   "pygments_lexer": "ipython3",
   "version": "3.6.8"
  }
 },
 "nbformat": 4,
 "nbformat_minor": 2
}
