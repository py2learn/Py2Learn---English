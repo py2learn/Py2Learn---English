{
 "cells": [
  {
   "cell_type": "markdown",
   "metadata": {},
   "source": [
    "Breve introdução ao Python\n",
    "=======================================================\n",
    "---\n",
    "\n",
    "Antes de começarmos hás-de concordar comigo que, para aprender uma linguagem de programação, primeiramente terás de saber o que é essa linguagem e para que serve, certo?\n",
    "----------------------------------------------------------------------------------------------------------------------------------------\n",
    "Então, eu digo-te que, Python é uma linguagem de programação (XD) criado por Guido Van Rossum  e liberado em 1991.\n",
    "\n",
    "Permite realizar diversas coisas desde análise matemática (cálculos), desenvolver softwares (programas), desenvolver páginas WEB (do lado do servidor), fazer script do sistema, entre outras coisas.\n",
    "\n",
    "Outras qualidades do Python são ter uma sintaxe simples de programar, funciona em diferentes plataformas (Windows, MAC, Linux, etc), é possível desenvolver programas com menos código que outras linguagens de programação... enfim há inúmeras vantagens em utilizar Python. \n",
    "\n",
    "Depois de tanto blábláblá, então, vamos começar?\n",
    "---------------------------------------------------------------------------------------\n",
    "\n",
    "Escolhe um destes módulos do nosso curso para começares a aprender e a desenvolver as tuas capacidades.\n"
   ]
  },
  {
   "cell_type": "code",
   "execution_count": 1,
   "metadata": {},
   "outputs": [
    {
     "data": {
      "text/html": [
       "<a href=\"https://google.at\">text</a>"
      ],
      "text/plain": [
       "<IPython.core.display.HTML object>"
      ]
     },
     "metadata": {},
     "output_type": "display_data"
    }
   ],
   "source": [
    "from IPython.core.display import display, HTML\n",
    "display(HTML(\"\"\"<a href=\"https://google.at\">text</a>\"\"\"))"
   ]
  },
  {
   "cell_type": "code",
   "execution_count": 7,
   "metadata": {},
   "outputs": [
    {
     "data": {
      "text/html": [
       "<a href=\"SintaxePython.ipynb\">Módulo 1 - Sintaxe Python</a><br>\n",
       "<a href=\"Variaveis.ipynb\">Módulo 2 - Variáveis Python</a><br>\n",
       "<a href=\"Numeros.ipynb\">Módulo 3 - Números em Python</a><br>\n",
       "<a href=\"Strings.ipynb\">Módulo 4 - Strings Python</a><br>\n",
       "<a href=\"Operadores.ipynb\">Módulo 5 - Operadores em Python</a><br>\n",
       "<a href=\"Colecoes.ipynb\">Módulo 6 - Coleções em Python</a><br>\n",
       "<a href=\"ControlodeFluxo.ipynb\">Módulo 7 - Declarações de controlo de fluxo</a><br>\n",
       "<a href=\"Funcoes.ipynb\">Módulo 8 - Funções em Python</a><br>\n",
       "<a href=\"ClasseseObjetos.ipynb\">Módulo 9 - Classes/Objetos em Python</a><br>\n",
       "<a href=\"Herancas.ipynb\">Módulo 10 - Heranças em Python</a>"
      ],
      "text/plain": [
       "<IPython.core.display.HTML object>"
      ]
     },
     "metadata": {},
     "output_type": "display_data"
    }
   ],
   "source": [
    "%%html\n",
    "<a href=\"SintaxePython.ipynb\">Módulo 1 - Sintaxe Python</a><br>\n",
    "<a href=\"Variaveis.ipynb\">Módulo 2 - Variáveis Python</a><br>\n",
    "<a href=\"Numeros.ipynb\">Módulo 3 - Números em Python</a><br>\n",
    "<a href=\"Strings.ipynb\">Módulo 4 - Strings Python</a><br>\n",
    "<a href=\"Operadores.ipynb\">Módulo 5 - Operadores em Python</a><br>\n",
    "<a href=\"Colecoes.ipynb\">Módulo 6 - Coleções em Python</a><br>\n",
    "<a href=\"ControlodeFluxo.ipynb\">Módulo 7 - Declarações de controlo de fluxo</a><br>\n",
    "<a href=\"Funcoes.ipynb\">Módulo 8 - Funções em Python</a><br>\n",
    "<a href=\"ClasseseObjetos.ipynb\">Módulo 9 - Classes/Objetos em Python</a><br>\n",
    "<a href=\"Herancas.ipynb\">Módulo 10 - Heranças em Python</a>"
   ]
  },
  {
   "cell_type": "code",
   "execution_count": null,
   "metadata": {},
   "outputs": [],
   "source": []
  }
 ],
 "metadata": {
  "kernelspec": {
   "display_name": "Python 3",
   "language": "python",
   "name": "python3"
  },
  "language_info": {
   "codemirror_mode": {
    "name": "ipython",
    "version": 3
   },
   "file_extension": ".py",
   "mimetype": "text/x-python",
   "name": "python",
   "nbconvert_exporter": "python",
   "pygments_lexer": "ipython3",
   "version": "3.7.1"
  },
  "latex_envs": {
   "LaTeX_envs_menu_present": true,
   "autoclose": false,
   "autocomplete": true,
   "bibliofile": "biblio.bib",
   "cite_by": "apalike",
   "current_citInitial": 1,
   "eqLabelWithNumbers": true,
   "eqNumInitial": 1,
   "hotkeys": {
    "equation": "Ctrl-E",
    "itemize": "Ctrl-I"
   },
   "labels_anchors": false,
   "latex_user_defs": false,
   "report_style_numbering": false,
   "user_envs_cfg": false
  },
  "nbTranslate": {
   "displayLangs": [
    "fr",
    "en"
   ],
   "hotkey": "alt-t",
   "langInMainMenu": true,
   "sourceLang": "en",
   "targetLang": "fr",
   "useGoogleTranslate": true
  }
 },
 "nbformat": 4,
 "nbformat_minor": 2
}
