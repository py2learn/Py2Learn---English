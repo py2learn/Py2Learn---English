{
 "cells": [
  {
   "cell_type": "markdown",
   "metadata": {},
   "source": [
    "Sintaxe Python\n",
    "=================\n",
    "\n",
    "Como foi dito anteriormente, a linguagem Python é simples, mas, no entanto, existem alguns cuidados que se deve ter para poder utilizá-la da forma correcta. \n",
    "\n",
    "Um dos cuidados a ter em atenção é a indentação. \n",
    "\n",
    "## Indentações em Python\n",
    "\n",
    "\n",
    "**Indentação** é um espaço que é deixado no início de cada linha de código e que serve para indicar que uma determinada linha de código pertence ao conjunto de código em questão.\n",
    "\n",
    "**Exemplo 1:**\n"
   ]
  },
  {
   "cell_type": "raw",
   "metadata": {},
   "source": [
    "if 5 > 2:\n",
    "print(\"5 é maior que 2\")"
   ]
  },
  {
   "cell_type": "markdown",
   "metadata": {},
   "source": [
    "Este exemplo dá erro de sintaxe visto que é verificada a condição de que 5 é maior que 2, mas, não há indentação na linha de código que indique o que fazer caso essa afirmação seja real, ou seja, é verificado uma condição, mas nada é feito nesse caso.\n",
    "\n",
    "A forma correcta seria fazer o seguinte:"
   ]
  },
  {
   "cell_type": "raw",
   "metadata": {},
   "source": [
    "if 5 > 2:\n",
    "  print(\"5 é maior que 2\")"
   ]
  },
  {
   "cell_type": "markdown",
   "metadata": {},
   "source": [
    "5 é maior que 2"
   ]
  },
  {
   "cell_type": "markdown",
   "metadata": {},
   "source": [
    "E neste caso, imprime **5 é maior que 2** caso isso se comprove.\n",
    "\n",
    "\n",
    "\n",
    "## Comentários\n"
   ]
  },
  {
   "cell_type": "markdown",
   "metadata": {},
   "source": [
    "Quando se pretender introduzir um comentário (pequena anotação) no nosso ficheiro de python, tudo o que precisamos fazer é antes do comentário colocar um **\"#\"**.\n",
    "Os comentários não são considerados códigos, por isso não são executados.\n",
    "\n",
    "**Exemplo 2:**"
   ]
  },
  {
   "cell_type": "raw",
   "metadata": {},
   "source": [
    "#Isto é um comentário\n",
    "print(\"Hello, World!\")"
   ]
  },
  {
   "cell_type": "markdown",
   "metadata": {},
   "source": [
    "Hello, World!"
   ]
  },
  {
   "cell_type": "markdown",
   "metadata": {},
   "source": [
    "## Docstrings\n",
    "\n",
    "São frases que nós introduzimos dentro do nosso código Python com o objetivo de explicar qual a funcionalidade do código em si, seja ele uma função, método ou classe. Estas não são executadas (como os comentários), a não ser se for chamado o método help ou __doc__ que o que faz é imprimir a docstring desse método/função/classe.\n",
    "\n",
    "**Exemplo 3:**"
   ]
  },
  {
   "cell_type": "raw",
   "metadata": {},
   "source": [
    "def funcaoImprimir(valor):\n",
    "    \"\"\"Esta função imprime o valor introduzido\"\"\"\n",
    "    print(\"O valor é\", valor)\n",
    "    \n",
    "\n",
    "help(funcaoImprimir)"
   ]
  },
  {
   "cell_type": "markdown",
   "metadata": {},
   "source": [
    "Help on function funcaoImprimir in module __main__:\n",
    "\n",
    "funcaoImprimir(valor)\n",
    "    Esta função imprime o valor introduzido"
   ]
  },
  {
   "cell_type": "raw",
   "metadata": {},
   "source": [
    "funcaoImprimir.__doc__\n"
   ]
  },
  {
   "cell_type": "markdown",
   "metadata": {},
   "source": [
    "'Esta função imprime o valor introduzido'"
   ]
  },
  {
   "cell_type": "markdown",
   "metadata": {},
   "source": [
    "## Testa os teus conhecimentos!"
   ]
  },
  {
   "cell_type": "code",
   "execution_count": 2,
   "metadata": {},
   "outputs": [
    {
     "data": {
      "application/vnd.jupyter.widget-view+json": {
       "model_id": "e2460de7aef546a1bec954467dfba467",
       "version_major": 2,
       "version_minor": 0
      },
      "text/plain": [
       "Button(description='Testa', style=ButtonStyle())"
      ]
     },
     "metadata": {},
     "output_type": "display_data"
    },
    {
     "data": {
      "application/vnd.jupyter.widget-view+json": {
       "model_id": "65a105531da541cc8c1339d643b82801",
       "version_major": 2,
       "version_minor": 0
      },
      "text/plain": [
       "VBox(children=(HTML(value='<p style=\"line-height:18px;\">O que falta nesta linha de código para ser um comentár…"
      ]
     },
     "metadata": {},
     "output_type": "display_data"
    }
   ],
   "source": [
    "import ipywidgets as widgets\n",
    "import nbinteract as nbi\n",
    "import random as rnd\n",
    "\n",
    "button = widgets.Button(\n",
    "    description='Testa',\n",
    ")\n",
    "\n",
    "def teste(b=None):\n",
    "    q = [\"O que falta nesta linha de código para ser um comentário?\", \"O que falta para que se imprima <<(Meu print)>>?\", \"Para ler o docString é necessário...\"]\n",
    "    r = [['\"\"\"', '#', '/'],['print', 'save', 'get'],['help()', '__doc__', 'print']]\n",
    "    a = [1, 0, [0, 1]]\n",
    "    num = rnd.randint(0,2)\n",
    "    \n",
    "    nbi.multiple_choice(question=q[num],\n",
    "                    choices=r[num],\n",
    "                    answers=a[num])\n",
    "    \n",
    "    \n",
    "@button.on_click\n",
    "def test_on_click(b):\n",
    "    teste()\n",
    "    \n",
    "button"
   ]
  },
  {
   "cell_type": "markdown",
   "metadata": {},
   "source": [
    "[Página Principal ](Intro.ipynb) <br>\n",
    "[Módulo 2 ](Variaveis.ipynb) <br>"
   ]
  },
  {
   "cell_type": "code",
   "execution_count": null,
   "metadata": {},
   "outputs": [],
   "source": []
  }
 ],
 "metadata": {
  "kernelspec": {
   "display_name": "Python 3",
   "language": "python",
   "name": "python3"
  },
  "language_info": {
   "codemirror_mode": {
    "name": "ipython",
    "version": 3
   },
   "file_extension": ".py",
   "mimetype": "text/x-python",
   "name": "python",
   "nbconvert_exporter": "python",
   "pygments_lexer": "ipython3",
   "version": "3.7.1"
  },
  "latex_envs": {
   "LaTeX_envs_menu_present": true,
   "autoclose": false,
   "autocomplete": true,
   "bibliofile": "biblio.bib",
   "cite_by": "apalike",
   "current_citInitial": 1,
   "eqLabelWithNumbers": true,
   "eqNumInitial": 1,
   "hotkeys": {
    "equation": "Ctrl-E",
    "itemize": "Ctrl-I"
   },
   "labels_anchors": false,
   "latex_user_defs": false,
   "report_style_numbering": false,
   "user_envs_cfg": false
  },
  "nbTranslate": {
   "displayLangs": [
    "fr",
    "en"
   ],
   "hotkey": "alt-t",
   "langInMainMenu": true,
   "sourceLang": "en",
   "targetLang": "fr",
   "useGoogleTranslate": true
  }
 },
 "nbformat": 4,
 "nbformat_minor": 2
}
