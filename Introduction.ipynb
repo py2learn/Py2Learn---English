{
 "cells": [
  {
   "cell_type": "markdown",
   "metadata": {},
   "source": [
    "Breve introdução ao Python\n",
    "=======================================================\n",
    "---"
   ]
  },
  {
   "cell_type": "markdown",
   "metadata": {},
   "source": [
    "Antes de começarmos hás-de concordar comigo que, para aprender uma linguagem de programação, primeiramente terás de saber o que é essa linguagem e para que serve, certo?\n",
    "----------------------------------------------------------------------------------------------------------------------------------------\n",
    "Então, eu digo-te que, Python é uma linguagem de programação (XD) criado por Guido Van Rossum  e liberado em 1991.\n",
    "\n",
    "Permite realizar diversas coisas desde análise matemática (cálculos), desenvolver softwares (programas), desenvolver páginas WEB (do lado do servidor), fazer script do sistema, entre outras coisas.\n",
    "\n",
    "Outras qualidades do Python são ter uma sintaxe simples de programar, funciona em diferentes plataformas (Windows, MAC, Linux, etc), é possível desenvolver programas com menos código que outras linguagens de programação... enfim há inúmeras vantagens em utilizar Python. "
   ]
  },
  {
   "cell_type": "markdown",
   "metadata": {},
   "source": [
    "Depois de tanto blábláblá, então, vamos começar?\n",
    "---------------------------------------------------------------------------------------"
   ]
  },
  {
   "cell_type": "markdown",
   "metadata": {},
   "source": [
    "Escolhe um destes módulos do nosso curso para começares a aprender e a desenvolver as tuas capacidades."
   ]
  },
  {
   "cell_type": "markdown",
   "metadata": {},
   "source": [
    "[Módulo 1 - Sintaxe Python](Módulo1-Sintaxe.ipynb) <br>\n",
    "[Módulo 2 - Variáveis Python](Módulo2-Variáveis.ipynb) <br>\n",
    "[Módulo 3 - Números em Python](Módulo3-Números.ipynb) <br>\n",
    "[Módulo 4 - Strings Python](Módulo4-Strings.ipynb) <br>\n",
    "[Módulo 5 - Operadores em Python](Módulo5-Operadores.ipynb) <br>\n",
    "[Módulo 6 - Coleções em Python](Módulo6-Coleções.ipynb) <br>\n",
    "[Módulo 7 - Declarações de controlo de fluxo](Módulo7-ControlodeFluxo.ipynb) <br>\n",
    "[Módulo 8 - Funções em Python](Módulo8-Funções.ipynb) <br>\n",
    "[Módulo 9 - Classes/Objetos em Python](Módulo9-ClasseseObjetos.ipynb) <br>\n",
    "[Módulo 10 - Heranças em Python](Módulo10-Heranças.ipynb) <br>"
   ]
  },
  {
   "cell_type": "code",
   "execution_count": null,
   "metadata": {},
   "outputs": [],
   "source": []
  }
 ],
 "metadata": {
  "kernelspec": {
   "display_name": "Python 3",
   "language": "python",
   "name": "python3"
  },
  "language_info": {
   "codemirror_mode": {
    "name": "ipython",
    "version": 3
   },
   "file_extension": ".py",
   "mimetype": "text/x-python",
   "name": "python",
   "nbconvert_exporter": "python",
   "pygments_lexer": "ipython3",
   "version": "3.6.8"
  }
 },
 "nbformat": 4,
 "nbformat_minor": 2
}
