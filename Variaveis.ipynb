{
 "cells": [
  {
   "cell_type": "markdown",
   "metadata": {},
   "source": [
    "Variáveis Python\n",
    "=================\n",
    "\n",
    "Diferentemente das outras linguagens de programação, Python não tem nenhum comando específico para declarar uma variável.\n",
    "\n",
    "\n",
    "## Regras para criar variáveis em Python\n",
    "\n",
    "\n",
    "Para criar uma variável em Python é preciso ter em atenção para que:\n",
    "\n",
    "* o nome da variável comece por uma letra ou um underscore ( _ ) e nunca por um número;\n",
    "* o nome da variável só pode conter valores alfa-numéricos e underscores (A-z, 0-9 e _);\n",
    "* nomes das variáveis são case-sensitive (as maiúsculas e minúsculas fazem diferença, ou seja LOL não é igual a lol).\n",
    "\n",
    "\n",
    "**Exemplo 1:**\n"
   ]
  },
  {
   "cell_type": "raw",
   "metadata": {},
   "source": [
    "marca = \"Audi\"\n",
    "ano = \"2019\"\n",
    "print(marca, ano)"
   ]
  },
  {
   "cell_type": "markdown",
   "metadata": {},
   "source": [
    "Audi 2019"
   ]
  },
  {
   "cell_type": "markdown",
   "metadata": {},
   "source": [
    "Em python as variáveis só são criadas no momento em que a elas serão atribuídas um valor.\n",
    "\n",
    "\n",
    "## Imprimir as variáveis\n",
    "\n",
    "Em python utiliza-se o método print(**variável**) para poder imprimir o valor das variáveis.\n",
    "\n",
    "Para combinar o texto com o valor das variáveis utiliza-se o caracter \"+\".\n",
    "\n",
    "**Exemplo 2:**"
   ]
  },
  {
   "cell_type": "raw",
   "metadata": {},
   "source": [
    "modelo = \"A4 Avant\"\n",
    "print(\"O meu carro de sonho é um \"+ marca + \" \" + modelo + \" \" + ano)"
   ]
  },
  {
   "cell_type": "markdown",
   "metadata": {},
   "source": [
    "O meu carro de sonho é um Audi A4 Avant 2019\n"
   ]
  },
  {
   "cell_type": "markdown",
   "metadata": {},
   "source": [
    "Caso a variável em questão seja um valor numérico, se adicionar \"+\" para juntar a variável a uma frase, dará erro visto que, para os números \"+\" serve como um operador matemático.\n",
    "\n",
    "**Exemplo 3:**"
   ]
  },
  {
   "cell_type": "raw",
   "metadata": {},
   "source": [
    "num1 = 20\n",
    "num2 = 9\n",
    "soma = num1 + num2\n",
    "print(num1, \" + \", num2, \" = \",soma)"
   ]
  },
  {
   "cell_type": "markdown",
   "metadata": {},
   "source": [
    "20  +  9  =  29"
   ]
  },
  {
   "cell_type": "code",
   "execution_count": 12,
   "metadata": {},
   "outputs": [
    {
     "data": {
      "application/vnd.jupyter.widget-view+json": {
       "model_id": "2007859b1b024a80861476d9d278b16a",
       "version_major": 2,
       "version_minor": 0
      },
      "text/plain": [
       "Button(description='Testa', style=ButtonStyle())"
      ]
     },
     "metadata": {},
     "output_type": "display_data"
    }
   ],
   "source": [
    "import ipywidgets as widgets\n",
    "import nbinteract as nbi\n",
    "import random as rnd\n",
    "\n",
    "button = widgets.Button(\n",
    "    description='Testa',\n",
    ")\n",
    "\n",
    "def teste(b=None):\n",
    "    q = [\"O que falta nesta linha de código para ser um comentário?\", \"O que falta para que se imprima <<(Meu print)>>?\", \"Para ler o docString é necessário...\"]\n",
    "    r = [['\"\"\"', '#', '/'],['print', 'save', 'get'],['help()', '__doc__', 'print']]\n",
    "    a = [1, 0, [0, 1]]\n",
    "    num = rnd.randint(0,2)\n",
    "    \n",
    "    nbi.multiple_choice(question=q[num],\n",
    "                    choices=r[num],\n",
    "                    answers=a[num])\n",
    "    \n",
    "    \n",
    "@button.on_click\n",
    "def test_on_click(b):\n",
    "    teste()\n",
    "    \n",
    "button"
   ]
  },
  {
   "cell_type": "markdown",
   "metadata": {},
   "source": [
    "[Página Principal ](Intro.ipynb) <br>\n",
    "[Módulo 3 ](Numeros.ipynb) <br>"
   ]
  }
 ],
 "metadata": {
  "kernelspec": {
   "display_name": "Python 3",
   "language": "python",
   "name": "python3"
  },
  "language_info": {
   "codemirror_mode": {
    "name": "ipython",
    "version": 3
   },
   "file_extension": ".py",
   "mimetype": "text/x-python",
   "name": "python",
   "nbconvert_exporter": "python",
   "pygments_lexer": "ipython3",
   "version": "3.7.1"
  },
  "latex_envs": {
   "LaTeX_envs_menu_present": true,
   "autoclose": false,
   "autocomplete": true,
   "bibliofile": "biblio.bib",
   "cite_by": "apalike",
   "current_citInitial": 1,
   "eqLabelWithNumbers": true,
   "eqNumInitial": 1,
   "hotkeys": {
    "equation": "Ctrl-E",
    "itemize": "Ctrl-I"
   },
   "labels_anchors": false,
   "latex_user_defs": false,
   "report_style_numbering": false,
   "user_envs_cfg": false
  },
  "nbTranslate": {
   "displayLangs": [
    "fr",
    "en"
   ],
   "hotkey": "alt-t",
   "langInMainMenu": true,
   "sourceLang": "en",
   "targetLang": "fr",
   "useGoogleTranslate": true
  }
 },
 "nbformat": 4,
 "nbformat_minor": 2
}
