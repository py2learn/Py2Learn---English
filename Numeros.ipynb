{
 "cells": [
  {
   "cell_type": "markdown",
   "metadata": {},
   "source": [
    "Números em Python\n",
    "=================\n",
    "\n",
    "Os números em python podem ser de três tipos:\n",
    "    * int \n",
    "    * float\n",
    "    * complex \n",
    "    \n",
    "**Exemplo 1:**"
   ]
  },
  {
   "cell_type": "raw",
   "metadata": {},
   "source": [
    "x = 10  #int\n",
    "y = 2.5 #float\n",
    "z = 5j  #complex"
   ]
  },
  {
   "cell_type": "markdown",
   "metadata": {},
   "source": [
    "Quando pretendemos saber o tipo de qualquer objeto (variável) em python devemos usar a função type().\n",
    "\n",
    "**Exemplo 2:**"
   ]
  },
  {
   "cell_type": "raw",
   "metadata": {},
   "source": [
    "print(type(x))\n",
    "print(type(y))\n",
    "print(type(z))"
   ]
  },
  {
   "cell_type": "markdown",
   "metadata": {},
   "source": [
    "<class 'int'> <br>\n",
    "<class 'float'> <br>\n",
    "<class 'complex'> <br>"
   ]
  },
  {
   "cell_type": "markdown",
   "metadata": {},
   "source": [
    "## Tipo int\n",
    "\n",
    "Int ou integer é um número inteiro (sem decimais), sendo ele positivo ou negativo. Tem uma dimensão ilimitada.\n",
    "\n",
    "**Exemplo 3:**\n"
   ]
  },
  {
   "cell_type": "raw",
   "metadata": {},
   "source": [
    "x = 10\n",
    "\n",
    "print(\"Meu número de aluno é o número \", 10)"
   ]
  },
  {
   "cell_type": "markdown",
   "metadata": {},
   "source": [
    "Meu número de aluno é o número  10"
   ]
  },
  {
   "cell_type": "markdown",
   "metadata": {},
   "source": [
    "## Tipo float\n",
    "\n",
    "Float é um número que contem um ou mais decimais, sendo ele positivo ou negativo. Tem uma dimensão ilimitada e no caso de números científicos pode conter um \"e\" para indicar números exponenciais.\n",
    "\n",
    "**Exemplo 4:**\n"
   ]
  },
  {
   "cell_type": "raw",
   "metadata": {},
   "source": [
    "print(type(81e1))"
   ]
  },
  {
   "cell_type": "markdown",
   "metadata": {},
   "source": [
    "<class 'float'>"
   ]
  },
  {
   "cell_type": "markdown",
   "metadata": {},
   "source": [
    "## Tipo complex\n",
    "\n",
    "Complex é um número que contem um \"j\" como parte imaginária.\n",
    "\n",
    "**Exemplo 5:**\n"
   ]
  },
  {
   "cell_type": "raw",
   "metadata": {},
   "source": [
    "print(type(6+5j))"
   ]
  },
  {
   "cell_type": "markdown",
   "metadata": {},
   "source": [
    "<class 'complex'>"
   ]
  },
  {
   "cell_type": "code",
   "execution_count": null,
   "metadata": {},
   "outputs": [],
   "source": []
  },
  {
   "cell_type": "markdown",
   "metadata": {},
   "source": [
    "[Página Principal ](Intro.ipynb) <br>\n",
    "[Módulo 4](Strings.ipynb) <br>"
   ]
  },
  {
   "cell_type": "code",
   "execution_count": null,
   "metadata": {},
   "outputs": [],
   "source": []
  }
 ],
 "metadata": {
  "kernelspec": {
   "display_name": "Python 3",
   "language": "python",
   "name": "python3"
  },
  "language_info": {
   "codemirror_mode": {
    "name": "ipython",
    "version": 3
   },
   "file_extension": ".py",
   "mimetype": "text/x-python",
   "name": "python",
   "nbconvert_exporter": "python",
   "pygments_lexer": "ipython3",
   "version": "3.7.1"
  },
  "latex_envs": {
   "LaTeX_envs_menu_present": true,
   "autoclose": false,
   "autocomplete": true,
   "bibliofile": "biblio.bib",
   "cite_by": "apalike",
   "current_citInitial": 1,
   "eqLabelWithNumbers": true,
   "eqNumInitial": 1,
   "hotkeys": {
    "equation": "Ctrl-E",
    "itemize": "Ctrl-I"
   },
   "labels_anchors": false,
   "latex_user_defs": false,
   "report_style_numbering": false,
   "user_envs_cfg": false
  },
  "nbTranslate": {
   "displayLangs": [
    "fr",
    "en"
   ],
   "hotkey": "alt-t",
   "langInMainMenu": true,
   "sourceLang": "en",
   "targetLang": "fr",
   "useGoogleTranslate": true
  }
 },
 "nbformat": 4,
 "nbformat_minor": 2
}
